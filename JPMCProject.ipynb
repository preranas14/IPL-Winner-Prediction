{
 "cells": [
  {
   "cell_type": "code",
   "execution_count": null,
   "metadata": {},
   "outputs": [],
   "source": [
    "import pandas as pd\n",
    "\n",
    "print(\"Pandas Version : {}\".format(pd.__version__))\n",
    "\n",
    "playerpoints = pd.read_excel(r'C:/Users/Kaustubh/Documents/JPMC/Project/PlayerPoints.xlsx')\n",
    "teams = pd.read_excel(r'C:\\Users\\Kaustubh\\Documents\\JPMC\\Project\\Teams.xlsx')\n",
    "joined = pd.read_excel(r'C:\\Users\\Kaustubh\\Documents\\JPMC\\Project\\final.xlsx')\n",
    "final = pd.read_excel(r'C:\\Users\\Kaustubh\\Documents\\JPMC\\Project\\matches_final.xlsx')\n",
    "\n",
    "print(joined.groupby('Team')['Pts'].sum())\n",
    "\n",
    "final = pd.DataFrame(final)\n"
   ]
  },
  {
   "cell_type": "code",
   "execution_count": null,
   "metadata": {},
   "outputs": [],
   "source": [
    "print(final.head())"
   ]
  },
  {
   "cell_type": "code",
   "execution_count": null,
   "metadata": {},
   "outputs": [],
   "source": [
    "#import seaborn as sls\n",
    "#code to compute a team-wise graphical representation of total match wins using a histogram\n",
    "import matplotlib.pyplot as plt\n",
    "\n",
    "df = pd.DataFrame(final)\n",
    "df['winner'].hist(bins=50)\n",
    "plt.show()"
   ]
  },
  {
   "cell_type": "code",
   "execution_count": null,
   "metadata": {},
   "outputs": [],
   "source": [
    "import seaborn as sns\n",
    "\n",
    "sns.countplot(y='winner',data=final)"
   ]
  },
  {
   "cell_type": "code",
   "execution_count": 3,
   "metadata": {},
   "outputs": [
    {
     "name": "stdout",
     "output_type": "stream",
     "text": [
      "Enter the details of the match : \n",
      "\n",
      "Format : Team Name Abbreviation\n",
      "Chennai Super Kings CSK\n",
      "Delhi Capitals DC\n",
      "Kings XI Punjab KXIP\n",
      "Kolkata Knight Riders KKR\n",
      "Mumbai Indians MI\n",
      "Rajasthan Royals RR\n",
      "Royal Challengers Bangalore RCB \n",
      "Sunrisers Hyderabad SRH\n",
      "\n",
      "Team 1 : Chennnai Super Kings CSK\n",
      "Team 2 : Mumbai Indians MI\n",
      "Toss Winner : Chennnai Super Kings CSK\n",
      "Toss Decision : 1\n",
      "Venue : sc\n"
     ]
    }
   ],
   "source": [
    "from sklearn.tree import DecisionTreeRegressor\n",
    "import numpy as np\n",
    "from sklearn.neighbors import KNeighborsClassifier\n",
    "from sklearn.model_selection import train_test_split\n",
    "from sklearn.preprocessing import MinMaxScaler\n",
    "from sklearn.ensemble import RandomForestClassifier\n",
    "\n",
    "print(\"Enter the details of the match : \\n\")\n",
    "print(\"Format : Team Name Abbreviation\\nChennai Super Kings CSK\\nDelhi Capitals DC\\nKings XI Punjab KXIP\")\n",
    "print(\"Kolkata Knight Riders KKR\\nMumbai Indians MI\\nRajasthan Royals RR\\nRoyal Challengers Bangalore RCB \")\n",
    "print(\"Sunrisers Hyderabad SRH\\n\")\n",
    "\n",
    "team1 = input(\"Team 1 : \")\n",
    "team2 = input(\"Team 2 : \")\n",
    "\n",
    "toss_winner = input(\"Toss Winner : \")\n",
    "toss_decision = input(\"Toss Decision : \")\n",
    "venue = input(\"Venue : \")\n",
    "\n",
    "\n"
   ]
  },
  {
   "cell_type": "code",
   "execution_count": 11,
   "metadata": {},
   "outputs": [],
   "source": [
    "def class_model(model, data, predictors, outcome):\n",
    "    model.fit(data[predictors],data[outcome])\n",
    "    predictions = model.predict(data[predictors])\n",
    "    accuracy = metrics.accuracy_score(predictions,data[outcome])\n",
    "    print('Accuracy : %s' % '{0:.3%}'.format(accuracy))\n",
    "    kf = KFold(data.shape[0], n_folds=5)\n",
    "    error = []\n",
    "    for train, test in kf:\n",
    "        train_predictors = (data[predictors].iloc[train,:])\n",
    "        train_target = data[outcome].iloc[train]\n",
    "        model.fit(train_predictors, train_target)\n",
    "        error.append(model.score(data[predictors].iloc[test,:], data[outcome].iloc[test]))\n",
    "    print('Cross validation Score : %s' % '{0:.3%}'.format(np.mean(error)))\n",
    "    model.fit(data[predictors],data[outcome])\n"
   ]
  },
  {
   "cell_type": "code",
   "execution_count": 18,
   "metadata": {},
   "outputs": [],
   "source": [
    "final.dropna(inplace=True)\n",
    "#(final.isna().sum())"
   ]
  },
  {
   "cell_type": "code",
   "execution_count": 40,
   "metadata": {},
   "outputs": [
    {
     "name": "stdout",
     "output_type": "stream",
     "text": [
      "Test Score : 92.683 %\n",
      "Winner : [3.]\n"
     ]
    }
   ],
   "source": [
    "team_data = {'Chennai Super Kings CSK':4,'Delhi Capitals DC':6,'Kings XI Punjab KXIP':7,'Kolkata Knight Riders KKR':2,'Mumbai Indians MI':1,'Rajasthan Royals RR':6,'Royal Challengers Bangalore RCB':7,'Sunrisers Hyderabad SRH':8}\n",
    "\n",
    "final.replace(['Mumbai Indians MI','Kolkata Knight Riders KKR','Royal Challengers Bangalore RCB','Chennai Super Kings CSK',\n",
    "                 'Rajasthan Royals RR','Delhi Capitals DC','Kings XI Punjab KXIP',\n",
    "                 'Sunrisers Hyderabad SRH']\n",
    "                ,[1,2,3,4,5,6,7,8],inplace=True)\n",
    "\n",
    "final.replace(['bat','field'],[1,0],inplace=True)\n",
    "\n",
    "\n",
    "\n",
    "data1 =final[['Team1Sum_Pts','Team2Sum_Pts','team1','team2','toss_winner','toss_decision','win_by_runs','win_by_wickets']]\n",
    "data2 = final['winner']\n",
    "\n",
    "\n",
    "X_train, X_test,y_train,y_test=train_test_split(data1,data2,random_state=42)\n",
    "\n",
    "\n",
    "forest = RandomForestClassifier(n_estimators=100, random_state=2)\n",
    "forest.fit(X_train, y_train)\n",
    "\n",
    "#team1 = team_data[team1]\n",
    "#team2 = team_data[team2]\n",
    "\n",
    "pred = [2130.0,1046.0,7,4,7,1,0,9]\n",
    "pred = np.array(pred)\n",
    "pred = pred.reshape(1,-1)\n",
    "print(\"Test Score : {:.3f} %\".format(forest.score(X_test,y_test)*100))\n",
    "print(\"Winner : {}\".format(forest.predict(pred)))\n"
   ]
  },
  {
   "cell_type": "code",
   "execution_count": 20,
   "metadata": {},
   "outputs": [
    {
     "data": {
      "text/plain": [
       "<matplotlib.axes._subplots.AxesSubplot at 0x27c8415ffd0>"
      ]
     },
     "execution_count": 20,
     "metadata": {},
     "output_type": "execute_result"
    },
    {
     "data": {
      "image/png": "[encoded data removed]",
      "text/plain": [
       "<Figure size 432x288 with 1 Axes>"
      ]
     },
     "metadata": {
      "needs_background": "light"
     },
     "output_type": "display_data"
    }
   ],
   "source": []
  },
  {
   "cell_type": "code",
   "execution_count": null,
   "metadata": {},
   "outputs": [],
   "source": []
  },
  {
   "cell_type": "code",
   "execution_count": null,
   "metadata": {},
   "outputs": [],
   "source": []
  }
 ],
 "metadata": {
  "kernelspec": {
   "display_name": "Python 3",
   "language": "python",
   "name": "python3"
  },
  "language_info": {
   "codemirror_mode": {
    "name": "ipython",
    "version": 3
   },
   "file_extension": ".py",
   "mimetype": "text/x-python",
   "name": "python",
   "nbconvert_exporter": "python",
   "pygments_lexer": "ipython3",
   "version": "3.7.3"
  }
 },
 "nbformat": 4,
 "nbformat_minor": 2
}
